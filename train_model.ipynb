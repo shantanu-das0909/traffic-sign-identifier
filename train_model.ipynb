{
 "cells": [
  {
   "cell_type": "code",
   "execution_count": 18,
   "metadata": {},
   "outputs": [],
   "source": [
    "import numpy as np\n",
    "import pandas as pd\n",
    "import tensorflow as tf\n",
    "from PIL import Image\n",
    "from sklearn.model_selection import train_test_split\n",
    "from tensorflow.keras.layers import Conv2D, MaxPool2D, Dense, Flatten, Dropout\n",
    "from tensorflow.keras.models import Sequential\n",
    "from tensorflow.keras.utils import to_categorical\n",
    "from tensorflow.keras.preprocessing.image import img_to_array\n",
    "from tensorflow.keras.preprocessing.image import load_img\n",
    "import os"
   ]
  },
  {
   "cell_type": "code",
   "execution_count": 5,
   "metadata": {},
   "outputs": [],
   "source": [
    "data = []\n",
    "label = []\n",
    "classes = 43"
   ]
  },
  {
   "cell_type": "code",
   "execution_count": 6,
   "metadata": {},
   "outputs": [],
   "source": [
    "dir = 'train'\n",
    "for i in range(classes):\n",
    "    path = os.path.join(dir, str(i))\n",
    "    for img in os.listdir(path):\n",
    "        img_path = os.path.join(path, img)\n",
    "        image = load_img(img_path, target_size=(30, 30))\n",
    "        image = img_to_array(image)\n",
    "        \n",
    "        data.append(image)\n",
    "        label.append(i)"
   ]
  },
  {
   "cell_type": "code",
   "execution_count": 8,
   "metadata": {},
   "outputs": [
    {
     "data": {
      "text/plain": [
       "(30, 30, 3)"
      ]
     },
     "execution_count": 8,
     "metadata": {},
     "output_type": "execute_result"
    }
   ],
   "source": [
    "data[0].shape"
   ]
  },
  {
   "cell_type": "code",
   "execution_count": 9,
   "metadata": {},
   "outputs": [
    {
     "data": {
      "text/plain": [
       "0"
      ]
     },
     "execution_count": 9,
     "metadata": {},
     "output_type": "execute_result"
    }
   ],
   "source": [
    "label[0]"
   ]
  },
  {
   "cell_type": "code",
   "execution_count": 10,
   "metadata": {},
   "outputs": [],
   "source": [
    "data = np.array(data)\n",
    "label = np.array(label)"
   ]
  },
  {
   "cell_type": "code",
   "execution_count": 11,
   "metadata": {},
   "outputs": [
    {
     "name": "stdout",
     "output_type": "stream",
     "text": [
      "(39209, 30, 30, 3) (39209,)\n"
     ]
    }
   ],
   "source": [
    "print(data.shape, label.shape)"
   ]
  },
  {
   "cell_type": "code",
   "execution_count": 13,
   "metadata": {},
   "outputs": [],
   "source": [
    "X_train, X_test, y_train, y_test = train_test_split(data, label, test_size=0.2, random_state=42)"
   ]
  },
  {
   "cell_type": "code",
   "execution_count": 14,
   "metadata": {},
   "outputs": [
    {
     "name": "stdout",
     "output_type": "stream",
     "text": [
      "(31367, 30, 30, 3) (7842, 30, 30, 3) (31367,) (7842,)\n"
     ]
    }
   ],
   "source": [
    "print(X_train.shape, X_test.shape, y_train.shape, y_test.shape)"
   ]
  },
  {
   "cell_type": "code",
   "execution_count": 15,
   "metadata": {},
   "outputs": [],
   "source": [
    "y_train = to_categorical(y_train, 43)\n",
    "y_test = to_categorical(y_test, 43)"
   ]
  },
  {
   "cell_type": "code",
   "execution_count": 20,
   "metadata": {},
   "outputs": [],
   "source": [
    "#Building the model\n",
    "model = Sequential()\n",
    "model.add(Conv2D(filters=32, kernel_size=(5,5), activation='relu', input_shape=X_train.shape[1:]))\n",
    "model.add(Conv2D(filters=32, kernel_size=(5,5), activation='relu'))\n",
    "model.add(MaxPool2D(pool_size=(2, 2)))\n",
    "model.add(Dropout(rate=0.25))\n",
    "model.add(Conv2D(filters=64, kernel_size=(3, 3), activation='relu'))\n",
    "model.add(Conv2D(filters=64, kernel_size=(3, 3), activation='relu'))\n",
    "model.add(MaxPool2D(pool_size=(2, 2)))\n",
    "model.add(Dropout(rate=0.25))\n",
    "model.add(Flatten())\n",
    "model.add(Dense(256, activation='relu'))\n",
    "model.add(Dropout(rate=0.5))\n",
    "model.add(Dense(43, activation='softmax'))"
   ]
  },
  {
   "cell_type": "code",
   "execution_count": 21,
   "metadata": {},
   "outputs": [],
   "source": [
    "#Compilation of the model\n",
    "model.compile(loss='categorical_crossentropy', optimizer='adam', metrics=['accuracy'])"
   ]
  },
  {
   "cell_type": "code",
   "execution_count": 22,
   "metadata": {},
   "outputs": [
    {
     "name": "stdout",
     "output_type": "stream",
     "text": [
      "Epoch 1/15\n",
      "981/981 [==============================] - 87s 88ms/step - loss: 1.9025 - accuracy: 0.5173 - val_loss: 0.4196 - val_accuracy: 0.9050\n",
      "Epoch 2/15\n",
      "981/981 [==============================] - 78s 79ms/step - loss: 0.5901 - accuracy: 0.8302 - val_loss: 0.1816 - val_accuracy: 0.9566\n",
      "Epoch 3/15\n",
      "981/981 [==============================] - 74s 75ms/step - loss: 0.4104 - accuracy: 0.8835 - val_loss: 0.1289 - val_accuracy: 0.9668\n",
      "Epoch 4/15\n",
      "981/981 [==============================] - 75s 76ms/step - loss: 0.3369 - accuracy: 0.9060 - val_loss: 0.1133 - val_accuracy: 0.9662\n",
      "Epoch 5/15\n",
      "981/981 [==============================] - 74s 75ms/step - loss: 0.2821 - accuracy: 0.9210 - val_loss: 0.1020 - val_accuracy: 0.9711\n",
      "Epoch 6/15\n",
      "981/981 [==============================] - 73s 75ms/step - loss: 0.2762 - accuracy: 0.9228 - val_loss: 0.1113 - val_accuracy: 0.9708\n",
      "Epoch 7/15\n",
      "981/981 [==============================] - 74s 75ms/step - loss: 0.2836 - accuracy: 0.9222 - val_loss: 0.1579 - val_accuracy: 0.9521\n",
      "Epoch 8/15\n",
      "981/981 [==============================] - 73s 75ms/step - loss: 0.2724 - accuracy: 0.9274 - val_loss: 0.0698 - val_accuracy: 0.9796\n",
      "Epoch 9/15\n",
      "981/981 [==============================] - 74s 76ms/step - loss: 0.2561 - accuracy: 0.9320 - val_loss: 0.0910 - val_accuracy: 0.9731\n",
      "Epoch 10/15\n",
      "981/981 [==============================] - 74s 76ms/step - loss: 0.2534 - accuracy: 0.9338 - val_loss: 0.1091 - val_accuracy: 0.9695\n",
      "Epoch 11/15\n",
      "981/981 [==============================] - 74s 76ms/step - loss: 0.2663 - accuracy: 0.9309 - val_loss: 0.0729 - val_accuracy: 0.9819\n",
      "Epoch 12/15\n",
      "981/981 [==============================] - 74s 76ms/step - loss: 0.2449 - accuracy: 0.9366 - val_loss: 0.1533 - val_accuracy: 0.9559\n",
      "Epoch 13/15\n",
      "981/981 [==============================] - 74s 75ms/step - loss: 0.2731 - accuracy: 0.9298 - val_loss: 0.0722 - val_accuracy: 0.9820\n",
      "Epoch 14/15\n",
      "981/981 [==============================] - 74s 76ms/step - loss: 0.2297 - accuracy: 0.9422 - val_loss: 0.0576 - val_accuracy: 0.9833\n",
      "Epoch 15/15\n",
      "981/981 [==============================] - 74s 75ms/step - loss: 0.2598 - accuracy: 0.9353 - val_loss: 0.0813 - val_accuracy: 0.9786\n"
     ]
    }
   ],
   "source": [
    "epochs = 15\n",
    "history = model.fit(X_train, y_train, batch_size=32, epochs=epochs, validation_data=(X_test, y_test))"
   ]
  },
  {
   "cell_type": "code",
   "execution_count": 23,
   "metadata": {},
   "outputs": [],
   "source": [
    "model.save(\"my_model.h5\")\n"
   ]
  },
  {
   "cell_type": "code",
   "execution_count": null,
   "metadata": {},
   "outputs": [],
   "source": []
  }
 ],
 "metadata": {
  "kernelspec": {
   "display_name": "Python 3",
   "language": "python",
   "name": "python3"
  },
  "language_info": {
   "codemirror_mode": {
    "name": "ipython",
    "version": 3
   },
   "file_extension": ".py",
   "mimetype": "text/x-python",
   "name": "python",
   "nbconvert_exporter": "python",
   "pygments_lexer": "ipython3",
   "version": "3.8.3"
  }
 },
 "nbformat": 4,
 "nbformat_minor": 4
}
